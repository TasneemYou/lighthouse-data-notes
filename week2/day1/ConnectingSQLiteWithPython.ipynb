{
 "cells": [
  {
   "cell_type": "code",
   "execution_count": 1,
   "id": "3f6bec27-a472-4c38-a8cb-7b700f7b05b6",
   "metadata": {},
   "outputs": [],
   "source": [
    "import sqlite3\n",
    "from sqlite3 import Error\n",
    "\n",
    "def create_connection(path):\n",
    "    connection = None\n",
    "    try:\n",
    "        connection = sqlite3.connect(path)\n",
    "        print(\"Connection to SQLite DB successful\")\n",
    "    except Error as e:\n",
    "        print(f\"The error '{e}' occurred\")\n",
    "\n",
    "    return connection"
   ]
  },
  {
   "cell_type": "code",
   "execution_count": 2,
   "id": "e3c0aee4-5007-41b1-b8ad-ef6856c04c00",
   "metadata": {},
   "outputs": [
    {
     "name": "stdout",
     "output_type": "stream",
     "text": [
      "Connection to SQLite DB successful\n"
     ]
    }
   ],
   "source": [
    "connection = create_connection(\"sm_app.sqlite\")"
   ]
  },
  {
   "cell_type": "code",
   "execution_count": 3,
   "id": "d142b370-4c6e-4305-9a08-c981428199ed",
   "metadata": {},
   "outputs": [],
   "source": [
    "def execute_query(connection, query):\n",
    "    cursor = connection.cursor()\n",
    "    try:\n",
    "        cursor.execute(query)\n",
    "        connection.commit()\n",
    "        print(\"Query executed successfully\")\n",
    "    except Error as e:\n",
    "        print(f\"The error '{e}' occurred\")\n"
   ]
  },
  {
   "cell_type": "code",
   "execution_count": 4,
   "id": "192b3eed-559a-4b06-adcf-e09083dd5c12",
   "metadata": {},
   "outputs": [],
   "source": [
    "create_users_table = \"\"\"\n",
    "CREATE TABLE IF NOT EXISTS users (\n",
    "  id INTEGER PRIMARY KEY AUTOINCREMENT,\n",
    "  name TEXT NOT NULL,\n",
    "  age INTEGER,\n",
    "  gender TEXT,\n",
    "  nationality TEXT\n",
    ");\n",
    "\"\"\""
   ]
  },
  {
   "cell_type": "code",
   "execution_count": 5,
   "id": "61a2b27d-81b5-4a12-b29c-82a1b6c16a30",
   "metadata": {},
   "outputs": [
    {
     "name": "stdout",
     "output_type": "stream",
     "text": [
      "Query executed successfully\n"
     ]
    }
   ],
   "source": [
    "execute_query(connection, create_users_table)"
   ]
  },
  {
   "cell_type": "code",
   "execution_count": 6,
   "id": "5aa7b390-1576-4d4b-8b9e-5a2b1ce60b2b",
   "metadata": {},
   "outputs": [],
   "source": [
    "create_posts_table = \"\"\"\n",
    "CREATE TABLE IF NOT EXISTS posts(\n",
    "  id INTEGER PRIMARY KEY AUTOINCREMENT, \n",
    "  title TEXT NOT NULL, \n",
    "  description TEXT NOT NULL, \n",
    "  user_id INTEGER NOT NULL, \n",
    "  FOREIGN KEY (user_id) REFERENCES users (id)\n",
    ");\n",
    "\"\"\""
   ]
  },
  {
   "cell_type": "code",
   "execution_count": 7,
   "id": "2bd4b44a-0819-4e5d-92fa-ffa26ecb8a42",
   "metadata": {},
   "outputs": [
    {
     "name": "stdout",
     "output_type": "stream",
     "text": [
      "Query executed successfully\n"
     ]
    }
   ],
   "source": [
    "execute_query(connection, create_posts_table)"
   ]
  },
  {
   "cell_type": "code",
   "execution_count": 8,
   "id": "96d6874e-f839-4067-8ca6-fc9f10559e68",
   "metadata": {},
   "outputs": [
    {
     "name": "stdout",
     "output_type": "stream",
     "text": [
      "Query executed successfully\n",
      "Query executed successfully\n"
     ]
    }
   ],
   "source": [
    "create_comments_table = \"\"\"\n",
    "CREATE TABLE IF NOT EXISTS comments (\n",
    "  id INTEGER PRIMARY KEY AUTOINCREMENT, \n",
    "  text TEXT NOT NULL, \n",
    "  user_id INTEGER NOT NULL, \n",
    "  post_id INTEGER NOT NULL, \n",
    "  FOREIGN KEY (user_id) REFERENCES users (id) FOREIGN KEY (post_id) REFERENCES posts (id)\n",
    ");\n",
    "\"\"\"\n",
    "\n",
    "create_likes_table = \"\"\"\n",
    "CREATE TABLE IF NOT EXISTS likes (\n",
    "  id INTEGER PRIMARY KEY AUTOINCREMENT, \n",
    "  user_id INTEGER NOT NULL, \n",
    "  post_id integer NOT NULL, \n",
    "  FOREIGN KEY (user_id) REFERENCES users (id) FOREIGN KEY (post_id) REFERENCES posts (id)\n",
    ");\n",
    "\"\"\"\n",
    "\n",
    "execute_query(connection, create_comments_table)  \n",
    "execute_query(connection, create_likes_table) "
   ]
  },
  {
   "cell_type": "code",
   "execution_count": 9,
   "id": "55957c16-5cf9-47d8-a020-437463dc413a",
   "metadata": {},
   "outputs": [
    {
     "name": "stdout",
     "output_type": "stream",
     "text": [
      "Query executed successfully\n"
     ]
    }
   ],
   "source": [
    "create_users = \"\"\"\n",
    "INSERT INTO\n",
    "  users (name, age, gender, nationality)\n",
    "VALUES\n",
    "  ('James', 25, 'male', 'USA'),\n",
    "  ('Leila', 32, 'female', 'France'),\n",
    "  ('Brigitte', 35, 'female', 'England'),\n",
    "  ('Mike', 40, 'male', 'Denmark'),\n",
    "  ('Elizabeth', 21, 'female', 'Canada');\n",
    "\"\"\"\n",
    "\n",
    "execute_query(connection, create_users)"
   ]
  },
  {
   "cell_type": "code",
   "execution_count": 10,
   "id": "257f119f-ed4f-4e0a-8a46-a6451632c4f9",
   "metadata": {},
   "outputs": [
    {
     "name": "stdout",
     "output_type": "stream",
     "text": [
      "Query executed successfully\n"
     ]
    }
   ],
   "source": [
    "create_posts = \"\"\"\n",
    "INSERT INTO\n",
    "  posts (title, description, user_id)\n",
    "VALUES\n",
    "  (\"Happy\", \"I am feeling very happy today\", 1),\n",
    "  (\"Hot Weather\", \"The weather is very hot today\", 2),\n",
    "  (\"Help\", \"I need some help with my work\", 2),\n",
    "  (\"Great News\", \"I am getting married\", 1),\n",
    "  (\"Interesting Game\", \"It was a fantastic game of tennis\", 5),\n",
    "  (\"Party\", \"Anyone up for a late-night party today?\", 3);\n",
    "\"\"\"\n",
    "\n",
    "execute_query(connection, create_posts)"
   ]
  },
  {
   "cell_type": "code",
   "execution_count": 11,
   "id": "59eb87df-93c9-4f54-8e90-ac0e65ab0122",
   "metadata": {},
   "outputs": [
    {
     "name": "stdout",
     "output_type": "stream",
     "text": [
      "Query executed successfully\n",
      "Query executed successfully\n"
     ]
    }
   ],
   "source": [
    "create_comments = \"\"\"\n",
    "INSERT INTO\n",
    "  comments (text, user_id, post_id)\n",
    "VALUES\n",
    "  ('Count me in', 1, 6),\n",
    "  ('What sort of help?', 5, 3),\n",
    "  ('Congrats buddy', 2, 4),\n",
    "  ('I was rooting for Nadal though', 4, 5),\n",
    "  ('Help with your thesis?', 2, 3),\n",
    "  ('Many congratulations', 5, 4);\n",
    "\"\"\"\n",
    "\n",
    "create_likes = \"\"\"\n",
    "INSERT INTO\n",
    "  likes (user_id, post_id)\n",
    "VALUES\n",
    "  (1, 6),\n",
    "  (2, 3),\n",
    "  (1, 5),\n",
    "  (5, 4),\n",
    "  (2, 4),\n",
    "  (4, 2),\n",
    "  (3, 6);\n",
    "\"\"\"\n",
    "\n",
    "execute_query(connection, create_comments)\n",
    "execute_query(connection, create_likes) "
   ]
  },
  {
   "cell_type": "code",
   "execution_count": 12,
   "id": "9ac6e31e-a70a-41d4-acb7-1911f1dbbb2e",
   "metadata": {},
   "outputs": [],
   "source": [
    "def execute_read_query(connection, query):\n",
    "    cursor = connection.cursor()\n",
    "    result = None\n",
    "    try:\n",
    "        cursor.execute(query)\n",
    "        result = cursor.fetchall()\n",
    "        return result\n",
    "    except Error as e:\n",
    "        print(f\"The error '{e}' occurred\")\n"
   ]
  },
  {
   "cell_type": "code",
   "execution_count": 13,
   "id": "1eeabf8b-5757-4929-895f-afb14b80aa69",
   "metadata": {},
   "outputs": [
    {
     "name": "stdout",
     "output_type": "stream",
     "text": [
      "(1, 'James', 25, 'male', 'USA')\n",
      "(2, 'Leila', 32, 'female', 'France')\n",
      "(3, 'Brigitte', 35, 'female', 'England')\n",
      "(4, 'Mike', 40, 'male', 'Denmark')\n",
      "(5, 'Elizabeth', 21, 'female', 'Canada')\n"
     ]
    }
   ],
   "source": [
    "select_users = \"SELECT * from users\"\n",
    "users = execute_read_query(connection, select_users)\n",
    "\n",
    "for user in users:\n",
    "    print(user)"
   ]
  },
  {
   "cell_type": "code",
   "execution_count": 14,
   "id": "7e1175f9-3f0b-4c79-8b1a-c930b992803e",
   "metadata": {},
   "outputs": [
    {
     "name": "stdout",
     "output_type": "stream",
     "text": [
      "Query executed successfully\n"
     ]
    }
   ],
   "source": [
    "update_post_description = \"\"\"\n",
    "UPDATE\n",
    "  posts\n",
    "SET\n",
    "  description = \"The weather has become pleasant now\"\n",
    "WHERE\n",
    "  id = 2\n",
    "\"\"\"\n",
    "\n",
    "execute_query(connection, update_post_description)"
   ]
  },
  {
   "cell_type": "code",
   "execution_count": 15,
   "id": "52ff34f4-ae50-4b19-83aa-605914582655",
   "metadata": {},
   "outputs": [
    {
     "name": "stdout",
     "output_type": "stream",
     "text": [
      "Query executed successfully\n"
     ]
    }
   ],
   "source": [
    "delete_comment = \"DELETE FROM comments WHERE id = 5\"\n",
    "execute_query(connection, delete_comment)"
   ]
  },
  {
   "cell_type": "code",
   "execution_count": null,
   "id": "29213fb7-30f0-4ad2-80d5-847edb1eb595",
   "metadata": {},
   "outputs": [],
   "source": []
  },
  {
   "cell_type": "code",
   "execution_count": null,
   "id": "53392fdd-d0be-482a-b941-0da6be334840",
   "metadata": {},
   "outputs": [],
   "source": []
  },
  {
   "cell_type": "code",
   "execution_count": null,
   "id": "b982896e-d488-42ea-9b72-23c3eaed63d8",
   "metadata": {},
   "outputs": [],
   "source": []
  }
 ],
 "metadata": {
  "kernelspec": {
   "display_name": "envBootcamp",
   "language": "python",
   "name": "envbootcamp"
  },
  "language_info": {
   "codemirror_mode": {
    "name": "ipython",
    "version": 3
   },
   "file_extension": ".py",
   "mimetype": "text/x-python",
   "name": "python",
   "nbconvert_exporter": "python",
   "pygments_lexer": "ipython3",
   "version": "3.8.12"
  }
 },
 "nbformat": 4,
 "nbformat_minor": 5
}
